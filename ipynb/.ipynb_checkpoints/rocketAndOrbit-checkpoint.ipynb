{
 "cells": [
  {
   "cell_type": "markdown",
   "metadata": {},
   "source": [
    "This section will illustrate the physics behind the ascent stage of launching your rocket."
   ]
  },
  {
   "cell_type": "markdown",
   "metadata": {},
   "source": [
    "## How Does a Rocket Work"
   ]
  },
  {
   "cell_type": "markdown",
   "metadata": {},
   "source": [
    "The basic idea behind most rockets is Newton's second law, which shows that force is the rate of momentum change. Now consider a rocket which is composed of fuel and payload, to have a simple model, we consider the case in vacuum no gravity environment.\n",
    "\n",
    "The equation for a rocket is called the rocket equation.\n",
    "\n",
    "$$m\\frac{dv}{dt}=-v_e\\frac{dm}{dt},$$\n",
    "\n",
    "where $v_e$ is the exhaust velocity of the desposed gas in center of mass frame, while $m$ is the mass of the rocket at time $t$. This equation does make sense because more mass dropped with a higher velocity, the rocket itself gains more velocity which is a trivial idea.\n",
    "\n",
    "The solution of the equation becomes\n",
    "\n",
    "$$v(t)-v(t_0)=-v_e \\ln{\\frac{m(t)}{m(t_0)} }.$$\n",
    "\n",
    "This equation is the key to find out many things for a flight. One of them is the propellant needed to achieve an orbit."
   ]
  },
  {
   "cell_type": "markdown",
   "metadata": {},
   "source": [
    "#### Derivation of rocket equation\n",
    "\n",
    "To derive the equation, we start from Newton's second law, which is\n",
    "\n",
    "$$\\vec F_{ext} = \\frac{d\\vec p}{dt}.$$\n",
    "\n",
    "As a definition for momentum in non-relativistic classical mechanics,\n",
    "\n",
    "$$\\vec p = m \\vec v.$$\n",
    "\n",
    "Plug in this expression, we have\n",
    "\n",
    "$$\\vec F_{ext} =  m\\frac{dv}{dt} + v \\frac{dm}{dt}.$$\n",
    "\n",
    "What happens next? We have to stop the math and think about the meanings of the equation. As you can recognize, the first term on the RHS is the $m \\vec a$, here m should be the mass of the rocket at time $t$ and this $\\vec a$ is the acceleration of the rocket itself. \n",
    "\n",
    "What is the second term? It is the effective force produced by propellant, thus the velocity is actually the exhaust velocity of the propellant in center of mass frame, in other words, the relative velocity between the rocket and the propellant."
   ]
  },
  {
   "cell_type": "markdown",
   "metadata": {},
   "source": [
    "### Orbit"
   ]
  },
  {
   "cell_type": "markdown",
   "metadata": {},
   "source": [
    "Orbit around a planet or moon is in general elliptical. The key of this orbit is conservation of energy. Two kinds of energy is in use in the dynamics, which are the kinetic energy of the ship and the gravitational energy.\n",
    "\n",
    "The kinetic energy is\n",
    "\n",
    "$$E_k = \\frac{1}{2}mv^2.$$\n",
    "\n",
    "Gravitational potential energy is\n",
    "\n",
    "$$E_g = - \\frac{G M m}{r},$$\n",
    "\n",
    "where $M$ is the mass of the central object like Kerbin.\n",
    "\n",
    "\n",
    "\n"
   ]
  },
  {
   "cell_type": "markdown",
   "metadata": {},
   "source": [
    "#### Circular Orbit"
   ]
  },
  {
   "cell_type": "markdown",
   "metadata": {},
   "source": [
    "The good thing about circular orbit is that it preserves a rotational symmetry, which means the magnitude of its velocity is all the same on the orbit. Throught this simple symmetry argument, we could see that the magnitude of the velocity is given by the circumference divided by the period,\n",
    "\n",
    "$$v = \\frac{2\\pi r}{T} = \\omega r,$$\n",
    "\n",
    "where $\\omega = \\frac{2\\pi}{T} $ is the angular velocity.\n",
    "\n",
    "By conservation of energy, we should have the total energy\n",
    "\n",
    "$$E = E_k+E_g.$$\n",
    "\n",
    "What's more, the dynamics is given by Newton's second law, in the language of math,\n",
    "\n",
    "$$\\frac{GMm}{r^2} = m \\frac{v^2}{r}.$$\n",
    "\n",
    "Manipulating this equation, one find that\n",
    "\n",
    "$$E_g = -2 E_k ,$$\n",
    "\n",
    "for circular orbits only.\n",
    "\n",
    "This is a magnificent relation. This is related to **virial theorem** which is the key to many phyiscs in general."
   ]
  },
  {
   "cell_type": "markdown",
   "metadata": {},
   "source": [
    "#### Virial Theorem\n",
    "\n",
    "For those who is interested in physics, virial theorem is very important in almost every field of physics research. It is important is quantum mechanics, astrophyiscs, astronomy, cosmology, etc."
   ]
  },
  {
   "cell_type": "markdown",
   "metadata": {},
   "source": [
    "#### Parameters"
   ]
  },
  {
   "cell_type": "markdown",
   "metadata": {},
   "source": [
    "An orbit in vacuum and all above the ground is characterised by the following parameters.\n",
    "\n",
    "1. Semimajor axis,\n",
    "2. Inclination,\n",
    "3. Argument,\n",
    "....."
   ]
  },
  {
   "cell_type": "code",
   "execution_count": null,
   "metadata": {
    "collapsed": true
   },
   "outputs": [],
   "source": []
  }
 ],
 "metadata": {
  "kernelspec": {
   "display_name": "Python 2",
   "language": "python",
   "name": "python2"
  },
  "language_info": {
   "codemirror_mode": {
    "name": "ipython",
    "version": 2
   },
   "file_extension": ".py",
   "mimetype": "text/x-python",
   "name": "python",
   "nbconvert_exporter": "python",
   "pygments_lexer": "ipython2",
   "version": "2.7.6"
  }
 },
 "nbformat": 4,
 "nbformat_minor": 0
}
